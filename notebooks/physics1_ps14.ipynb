{
 "cells": [
  {
   "cell_type": "code",
   "execution_count": 1,
   "metadata": {
    "collapsed": true
   },
   "outputs": [],
   "source": [
    "import numpy as np"
   ]
  },
  {
   "cell_type": "code",
   "execution_count": 2,
   "metadata": {
    "collapsed": true
   },
   "outputs": [],
   "source": [
    "m = 2.0 # kg\n",
    "c = 2.998e8 # m/s\n",
    "def gamma(v):\n",
    "    return 1. / np.sqrt(1. - v * v / (c * c))\n",
    "def KE(v):\n",
    "    p = gamma(v) * m * v\n",
    "    return np.sqrt(p * p * c * c + m * m * c * c * c * c) - m * c * c\n",
    "def oldKE(v):\n",
    "    return 0.5 * m * v * v"
   ]
  },
  {
   "cell_type": "code",
   "execution_count": 3,
   "metadata": {
    "collapsed": false
   },
   "outputs": [
    {
     "name": "stdout",
     "output_type": "stream",
     "text": [
      "1.0000000e-02 0.0000000e+00 1.0000000e-04 0.0000000e+00\n",
      "1.0000000e+00 0.0000000e+00 1.0000000e+00 0.0000000e+00\n",
      "1.0000000e+02 9.9840000e+03 1.0000000e+04 9.9840000e-01\n",
      "1.0000000e+04 1.0000000e+08 1.0000000e+08 1.0000000e+00\n",
      "1.0000000e+06 1.0000083e+12 1.0000000e+12 1.0000083e+00\n",
      "1.0000000e+08 1.0920184e+16 1.0000000e+16 1.0920184e+00\n",
      "2.0000000e+08 6.1542233e+16 4.0000000e+16 1.5385558e+00\n",
      "2.9000000e+08 5.2909827e+17 8.4100000e+16 6.2912993e+00\n",
      "2.9680200e+08 1.0945253e+18 8.8091427e+16 1.2424879e+01\n",
      "2.9977002e+08 1.2531515e+19 8.9862065e+16 1.3945278e+02\n"
     ]
    }
   ],
   "source": [
    "vlist = [0.01, 1., 100., 1.e4, 1.e6, 1.e8, 2.e8, 2.9e8, 0.99 * c, 0.9999*c]\n",
    "for v in vlist:\n",
    "    print(\"{0:10.7e} {1:10.7e} {2:10.7e} {3:10.7e}\".format(v, KE(v), oldKE(v), KE(v) / oldKE(v)))"
   ]
  },
  {
   "cell_type": "code",
   "execution_count": null,
   "metadata": {
    "collapsed": true
   },
   "outputs": [],
   "source": []
  }
 ],
 "metadata": {
  "kernelspec": {
   "display_name": "Python 3",
   "language": "python",
   "name": "python3"
  },
  "language_info": {
   "codemirror_mode": {
    "name": "ipython",
    "version": 3
   },
   "file_extension": ".py",
   "mimetype": "text/x-python",
   "name": "python",
   "nbconvert_exporter": "python",
   "pygments_lexer": "ipython3",
   "version": "3.6.0"
  }
 },
 "nbformat": 4,
 "nbformat_minor": 2
}
